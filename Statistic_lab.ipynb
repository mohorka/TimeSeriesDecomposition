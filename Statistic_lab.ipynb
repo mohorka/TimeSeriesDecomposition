{
  "nbformat": 4,
  "nbformat_minor": 0,
  "metadata": {
    "colab": {
      "name": "Statistic_lab.ipynb",
      "provenance": []
    },
    "kernelspec": {
      "name": "python3",
      "display_name": "Python 3"
    }
  },
  "cells": [
    {
      "cell_type": "code",
      "metadata": {
        "id": "yQYMRt3dW80P"
      },
      "source": [
        "from pandas import Series\n",
        "from matplotlib import pyplot\n",
        "from pandas import DataFrame\n",
        "from pandas import set_option\n",
        "from pandas import concat\n",
        "import numpy as np\n",
        "import math\n",
        "from sklearn.linear_model import LinearRegression"
      ],
      "execution_count": null,
      "outputs": []
    },
    {
      "cell_type": "markdown",
      "metadata": {
        "id": "Q8aUuvg_5G7x"
      },
      "source": [
        "Изначально планировалось использование пакеты statsmodels и функции \n",
        "statsmodels.tsa.seasonal.seasonal_decompose(), однако результат был крайне странный, скорее всего из-за небольшого размера выборки. Поэтому пришлось раскладывать ряд \"вручную\".\n"
      ]
    },
    {
      "cell_type": "code",
      "metadata": {
        "id": "FVc5p-JbH0mk"
      },
      "source": [
        "#get data\n",
        "data = [15.65, 10.56, 8.62, 14.41, 16.93, 11.12,\n",
        "                  7.58, 16.23, 17.38, 13.89, 8.73, 16.77, 18.49, 10.73,\n",
        "                  9.89, 17.57, 20.56, 14.14, 8.19, 18.94]\n",
        "index = []\n",
        "for i in range (1,21,1):\n",
        "  index.append(i)"
      ],
      "execution_count": null,
      "outputs": []
    },
    {
      "cell_type": "code",
      "metadata": {
        "colab": {
          "base_uri": "https://localhost:8080/"
        },
        "id": "I-Q790sDOf0M",
        "outputId": "ea474007-1054-417d-f939-26e1a2c57e5b"
      },
      "source": [
        "#prepare data by rolling mean method\n",
        "series = Series(data,index)\n",
        "rolling = series.rolling(window=4)\n",
        "rolling_mean = rolling.mean()\n",
        "data_table = concat([series, rolling_mean], axis =1)\n",
        "data_table.columns = ['y', 'y~']\n",
        "print(data_table)"
      ],
      "execution_count": null,
      "outputs": [
        {
          "output_type": "stream",
          "text": [
            "        y       y~\n",
            "1   15.65      NaN\n",
            "2   10.56      NaN\n",
            "3    8.62      NaN\n",
            "4   14.41  12.3100\n",
            "5   16.93  12.6300\n",
            "6   11.12  12.7700\n",
            "7    7.58  12.5100\n",
            "8   16.23  12.9650\n",
            "9   17.38  13.0775\n",
            "10  13.89  13.7700\n",
            "11   8.73  14.0575\n",
            "12  16.77  14.1925\n",
            "13  18.49  14.4700\n",
            "14  10.73  13.6800\n",
            "15   9.89  13.9700\n",
            "16  17.57  14.1700\n",
            "17  20.56  14.6875\n",
            "18  14.14  15.5400\n",
            "19   8.19  15.1150\n",
            "20  18.94  15.4575\n"
          ],
          "name": "stdout"
        }
      ]
    },
    {
      "cell_type": "code",
      "metadata": {
        "colab": {
          "base_uri": "https://localhost:8080/"
        },
        "id": "xMh6jTYbU801",
        "outputId": "37f290ac-a969-40dd-f10e-30563c5ccebf"
      },
      "source": [
        "# get seasonal y/y~\n",
        "seasonal_y = []\n",
        "for i in data_table.index:\n",
        "  if math.isnan(data_table['y~'][i]):\n",
        "    seasonal_y.append(np.nan)\n",
        "  else:\n",
        "    seasonal_y.append(data_table['y'][i] / data_table['y~'][i])\n",
        "\n",
        "seasonal_y = Series(seasonal_y,index)\n",
        "data_table = concat([series, rolling_mean, seasonal_y], axis =1)\n",
        "data_table.columns = ['y', 'y~','y/y~']\n",
        "print(data_table)\n",
        "\n",
        "\n",
        "\n",
        "  \n"
      ],
      "execution_count": null,
      "outputs": [
        {
          "output_type": "stream",
          "text": [
            "        y       y~      y/y~\n",
            "1   15.65      NaN       NaN\n",
            "2   10.56      NaN       NaN\n",
            "3    8.62      NaN       NaN\n",
            "4   14.41  12.3100  1.170593\n",
            "5   16.93  12.6300  1.340459\n",
            "6   11.12  12.7700  0.870791\n",
            "7    7.58  12.5100  0.605915\n",
            "8   16.23  12.9650  1.251832\n",
            "9   17.38  13.0775  1.329000\n",
            "10  13.89  13.7700  1.008715\n",
            "11   8.73  14.0575  0.621021\n",
            "12  16.77  14.1925  1.181610\n",
            "13  18.49  14.4700  1.277816\n",
            "14  10.73  13.6800  0.784357\n",
            "15   9.89  13.9700  0.707946\n",
            "16  17.57  14.1700  1.239944\n",
            "17  20.56  14.6875  1.399830\n",
            "18  14.14  15.5400  0.909910\n",
            "19   8.19  15.1150  0.541846\n",
            "20  18.94  15.4575  1.225295\n"
          ],
          "name": "stdout"
        }
      ]
    },
    {
      "cell_type": "code",
      "metadata": {
        "id": "-cjJMY76QKQk",
        "colab": {
          "base_uri": "https://localhost:8080/"
        },
        "outputId": "739e783b-b4ad-4ec9-840f-72a5284759de"
      },
      "source": [
        "#split data to quaters\n",
        "first = []\n",
        "second = []\n",
        "third = []\n",
        "forth = []\n",
        "for i in range(1,18,4):\n",
        "  first.append(data_table['y/y~'][i])\n",
        "  second.append(data_table['y/y~'][i + 1])\n",
        "  third.append(data_table['y/y~'][i + 2])\n",
        "  forth.append(data_table['y/y~'][i + 3])\n",
        "\n",
        "print('1st quater ',first)\n",
        "print('2nd quater ', second)\n",
        "print('3rd quater ', third)\n",
        "print('4th quater ', forth)"
      ],
      "execution_count": null,
      "outputs": [
        {
          "output_type": "stream",
          "text": [
            "1st quater  [nan, 1.3404592240696755, 1.3290001911680371, 1.2778161713890812, 1.3998297872340424]\n",
            "2nd quater  [nan, 0.870790916209867, 1.0087145969498912, 0.784356725146199, 0.9099099099099099]\n",
            "3rd quater  [nan, 0.6059152677857715, 0.6210208073981862, 0.7079455977093775, 0.5418458484948727]\n",
            "4th quater  [1.1705930138099108, 1.2518318549942156, 1.1816100052844816, 1.2399435426958365, 1.2252951641597933]\n"
          ],
          "name": "stdout"
        }
      ]
    },
    {
      "cell_type": "code",
      "metadata": {
        "id": "mZZq9dojdr2M",
        "colab": {
          "base_uri": "https://localhost:8080/"
        },
        "outputId": "2b610427-2b41-4525-fd6b-ce4a00b2f3f8"
      },
      "source": [
        "sum_first = 0\n",
        "for i in first:\n",
        "  if math.isnan(i) is False:\n",
        "    sum_first = sum_first + i\n",
        "mean_first = sum_first / 4\n",
        "print('summary of 1st quaters', sum_first)\n",
        "\n",
        "sum_second = 0\n",
        "for i in second:\n",
        "  if math.isnan(i) is False:\n",
        "    sum_second = sum_second + i\n",
        "mean_second = sum_second / 4\n",
        "print('summary of 2nd quaters', sum_second)\n",
        "\n",
        "sum_third = 0\n",
        "for i in third:\n",
        "  if math.isnan(i) is False:\n",
        "    sum_third = sum_third + i\n",
        "mean_third = sum_third / 4\n",
        "print('summary of 3rd quaters', sum_third)\n",
        "\n",
        "\n",
        "sum_forth = 0\n",
        "for i in forth:\n",
        "  if math.isnan(i) is False:\n",
        "    sum_forth = sum_forth + i\n",
        "mean_forth = sum_forth / 5\n",
        "print('summary of 4th quaters', sum_forth)\n",
        "print()\n",
        "\n",
        "\n",
        "\n",
        "print('mean of 1st quaters', mean_first)\n",
        "print('mean of 2nd quaters', mean_second)\n",
        "print('mean of 3nd quaters', mean_third)\n",
        "print('mean of 4th quaters', mean_forth)\n",
        "print()\n",
        "\n",
        "summary_means = mean_first + mean_second + mean_third + mean_forth\n",
        "corrected = 4 / summary_means\n",
        "\n",
        "mean_first = mean_first * corrected\n",
        "mean_second = mean_second * corrected\n",
        "mean_third = mean_third * corrected\n",
        "mean_forth = mean_forth * corrected\n",
        "print('corrected indexes:', mean_first, '',mean_second,'',mean_third,'',mean_forth)\n",
        "\n",
        "\n"
      ],
      "execution_count": null,
      "outputs": [
        {
          "output_type": "stream",
          "text": [
            "summary of 1st quaters 5.3471053738608365\n",
            "summary of 2nd quaters 3.573772148215867\n",
            "summary of 3rd quaters 2.4767275213882076\n",
            "summary of 4th quaters 6.069273580944238\n",
            "\n",
            "mean of 1st quaters 1.3367763434652091\n",
            "mean of 2nd quaters 0.8934430370539668\n",
            "mean of 3nd quaters 0.6191818803470519\n",
            "mean of 4th quaters 1.2138547161888478\n",
            "\n",
            "corrected indexes: 1.3159656699099365  0.8795340899999188  0.6095425775225868  1.1949576625675578\n"
          ],
          "name": "stdout"
        }
      ]
    },
    {
      "cell_type": "code",
      "metadata": {
        "colab": {
          "base_uri": "https://localhost:8080/"
        },
        "id": "vdTCpeMVh5YU",
        "outputId": "0db452a1-83a2-452d-ed53-f02e005680a9"
      },
      "source": [
        "# get s(t)\n",
        "s = []\n",
        "for i in range(1,18,4):\n",
        "  s.append(mean_first)\n",
        "  s.append(mean_second)\n",
        "  s.append(mean_third)\n",
        "  s.append(mean_forth)\n",
        "\n",
        "data_table['s'] = Series(s,index)\n",
        "print(data_table)"
      ],
      "execution_count": null,
      "outputs": [
        {
          "output_type": "stream",
          "text": [
            "        y       y~      y/y~         s\n",
            "1   15.65      NaN       NaN  1.315966\n",
            "2   10.56      NaN       NaN  0.879534\n",
            "3    8.62      NaN       NaN  0.609543\n",
            "4   14.41  12.3100  1.170593  1.194958\n",
            "5   16.93  12.6300  1.340459  1.315966\n",
            "6   11.12  12.7700  0.870791  0.879534\n",
            "7    7.58  12.5100  0.605915  0.609543\n",
            "8   16.23  12.9650  1.251832  1.194958\n",
            "9   17.38  13.0775  1.329000  1.315966\n",
            "10  13.89  13.7700  1.008715  0.879534\n",
            "11   8.73  14.0575  0.621021  0.609543\n",
            "12  16.77  14.1925  1.181610  1.194958\n",
            "13  18.49  14.4700  1.277816  1.315966\n",
            "14  10.73  13.6800  0.784357  0.879534\n",
            "15   9.89  13.9700  0.707946  0.609543\n",
            "16  17.57  14.1700  1.239944  1.194958\n",
            "17  20.56  14.6875  1.399830  1.315966\n",
            "18  14.14  15.5400  0.909910  0.879534\n",
            "19   8.19  15.1150  0.541846  0.609543\n",
            "20  18.94  15.4575  1.225295  1.194958\n"
          ],
          "name": "stdout"
        }
      ]
    },
    {
      "cell_type": "code",
      "metadata": {
        "colab": {
          "base_uri": "https://localhost:8080/"
        },
        "id": "92vkJj2Ck6XY",
        "outputId": "17dbee95-664d-4417-fd33-b6668a9bdc73"
      },
      "source": [
        "#get d(t):\n",
        "d= []\n",
        "for i in data_table.index:\n",
        "  d.append(data_table['y'][i] / data_table['s'][i])\n",
        "\n",
        "data_table['d'] = Series(d,index)\n",
        "print(data_table)"
      ],
      "execution_count": null,
      "outputs": [
        {
          "output_type": "stream",
          "text": [
            "        y       y~      y/y~         s          d\n",
            "1   15.65      NaN       NaN  1.315966  11.892407\n",
            "2   10.56      NaN       NaN  0.879534  12.006357\n",
            "3    8.62      NaN       NaN  0.609543  14.141752\n",
            "4   14.41  12.3100  1.170593  1.194958  12.059005\n",
            "5   16.93  12.6300  1.340459  1.315966  12.865077\n",
            "6   11.12  12.7700  0.870791  0.879534  12.643057\n",
            "7    7.58  12.5100  0.605915  0.609543  12.435555\n",
            "8   16.23  12.9650  1.251832  1.194958  13.582071\n",
            "9   17.38  13.0775  1.329000  1.315966  13.207031\n",
            "10  13.89  13.7700  1.008715  0.879534  15.792452\n",
            "11   8.73  14.0575  0.621021  0.609543  14.322215\n",
            "12  16.77  14.1925  1.181610  1.194958  14.033970\n",
            "13  18.49  14.4700  1.277816  1.315966  14.050519\n",
            "14  10.73  13.6800  0.784357  0.879534  12.199641\n",
            "15   9.89  13.9700  0.707946  0.609543  16.225282\n",
            "16  17.57  14.1700  1.239944  1.194958  14.703450\n",
            "17  20.56  14.6875  1.399830  1.315966  15.623508\n",
            "18  14.14  15.5400  0.909910  0.879534  16.076694\n",
            "19   8.19  15.1150  0.541846  0.609543  13.436305\n",
            "20  18.94  15.4575  1.225295  1.194958  15.849934\n"
          ],
          "name": "stdout"
        }
      ]
    },
    {
      "cell_type": "code",
      "metadata": {
        "colab": {
          "base_uri": "https://localhost:8080/"
        },
        "id": "kBBHwDXln3OJ",
        "outputId": "2e617228-436b-481a-9e2d-8f06c9e8d0c6"
      },
      "source": [
        "#get u(t) by linear regression, u(t) = a + bt\n",
        "x = np.array(index).reshape((-1, 1))\n",
        "y = np.array(data_table['d'])\n",
        "model = LinearRegression().fit(x,y)\n",
        "a = model.intercept_\n",
        "b = model.coef_[0]\n",
        "print('a: ',a,'b: ',b)\n",
        "u = model.predict(x)\n",
        "\n",
        "data_table['u'] = Series(u,index)\n",
        "print(data_table)\n"
      ],
      "execution_count": null,
      "outputs": [
        {
          "output_type": "stream",
          "text": [
            "a:  12.04919572165011 b:  0.17220174681444297\n",
            "        y       y~      y/y~         s          d          u\n",
            "1   15.65      NaN       NaN  1.315966  11.892407  12.221397\n",
            "2   10.56      NaN       NaN  0.879534  12.006357  12.393599\n",
            "3    8.62      NaN       NaN  0.609543  14.141752  12.565801\n",
            "4   14.41  12.3100  1.170593  1.194958  12.059005  12.738003\n",
            "5   16.93  12.6300  1.340459  1.315966  12.865077  12.910204\n",
            "6   11.12  12.7700  0.870791  0.879534  12.643057  13.082406\n",
            "7    7.58  12.5100  0.605915  0.609543  12.435555  13.254608\n",
            "8   16.23  12.9650  1.251832  1.194958  13.582071  13.426810\n",
            "9   17.38  13.0775  1.329000  1.315966  13.207031  13.599011\n",
            "10  13.89  13.7700  1.008715  0.879534  15.792452  13.771213\n",
            "11   8.73  14.0575  0.621021  0.609543  14.322215  13.943415\n",
            "12  16.77  14.1925  1.181610  1.194958  14.033970  14.115617\n",
            "13  18.49  14.4700  1.277816  1.315966  14.050519  14.287818\n",
            "14  10.73  13.6800  0.784357  0.879534  12.199641  14.460020\n",
            "15   9.89  13.9700  0.707946  0.609543  16.225282  14.632222\n",
            "16  17.57  14.1700  1.239944  1.194958  14.703450  14.804424\n",
            "17  20.56  14.6875  1.399830  1.315966  15.623508  14.976625\n",
            "18  14.14  15.5400  0.909910  0.879534  16.076694  15.148827\n",
            "19   8.19  15.1150  0.541846  0.609543  13.436305  15.321029\n",
            "20  18.94  15.4575  1.225295  1.194958  15.849934  15.493231\n"
          ],
          "name": "stdout"
        }
      ]
    },
    {
      "cell_type": "code",
      "metadata": {
        "colab": {
          "base_uri": "https://localhost:8080/"
        },
        "id": "pHrJ8CfrzVkZ",
        "outputId": "d5e8303f-421f-48a4-e800-5b81d60deda1"
      },
      "source": [
        "#get d(t)/u(t) = c(t)e(t)\n",
        "ce= []\n",
        "for i in data_table.index:\n",
        "  ce.append(data_table['d'][i] / data_table['u'][i])\n",
        "\n",
        "data_table['d/u'] = Series(ce,index)\n",
        "set_option(\"display.max_rows\", None, \"display.max_columns\", None)\n",
        "print('Print just last 3 columns, because all table is printed in unreadable way')\n",
        "print(data_table[['d', 'u', 'd/u']])\n"
      ],
      "execution_count": null,
      "outputs": [
        {
          "output_type": "stream",
          "text": [
            "Print just last 3 columns, because all table is printed in unreadable way\n",
            "            d          u       d/u\n",
            "1   11.892407  12.221397  0.973081\n",
            "2   12.006357  12.393599  0.968755\n",
            "3   14.141752  12.565801  1.125416\n",
            "4   12.059005  12.738003  0.946695\n",
            "5   12.865077  12.910204  0.996505\n",
            "6   12.643057  13.082406  0.966417\n",
            "7   12.435555  13.254608  0.938206\n",
            "8   13.582071  13.426810  1.011564\n",
            "9   13.207031  13.599011  0.971176\n",
            "10  15.792452  13.771213  1.146773\n",
            "11  14.322215  13.943415  1.027167\n",
            "12  14.033970  14.115617  0.994216\n",
            "13  14.050519  14.287818  0.983391\n",
            "14  12.199641  14.460020  0.843681\n",
            "15  16.225282  14.632222  1.108873\n",
            "16  14.703450  14.804424  0.993179\n",
            "17  15.623508  14.976625  1.043193\n",
            "18  16.076694  15.148827  1.061250\n",
            "19  13.436305  15.321029  0.876985\n",
            "20  15.849934  15.493231  1.023023\n"
          ],
          "name": "stdout"
        }
      ]
    },
    {
      "cell_type": "code",
      "metadata": {
        "colab": {
          "base_uri": "https://localhost:8080/"
        },
        "id": "bfgnQy3g1_87",
        "outputId": "3411ddfd-2532-4188-a494-b499734a6c2f"
      },
      "source": [
        "# get c(t) by rolling mean method\n",
        "c = Series(data_table['d/u'],index)\n",
        "c_rolling = c.rolling(window = 3)\n",
        "c = c_rolling.mean()\n",
        "data_table['c'] = Series(c,index)\n",
        "print(data_table[['d', 'u', 'd/u','c']])"
      ],
      "execution_count": null,
      "outputs": [
        {
          "output_type": "stream",
          "text": [
            "            d          u       d/u         c\n",
            "1   11.892407  12.221397  0.973081       NaN\n",
            "2   12.006357  12.393599  0.968755       NaN\n",
            "3   14.141752  12.565801  1.125416  1.022417\n",
            "4   12.059005  12.738003  0.946695  1.013622\n",
            "5   12.865077  12.910204  0.996505  1.022872\n",
            "6   12.643057  13.082406  0.966417  0.969872\n",
            "7   12.435555  13.254608  0.938206  0.967042\n",
            "8   13.582071  13.426810  1.011564  0.972062\n",
            "9   13.207031  13.599011  0.971176  0.973649\n",
            "10  15.792452  13.771213  1.146773  1.043171\n",
            "11  14.322215  13.943415  1.027167  1.048372\n",
            "12  14.033970  14.115617  0.994216  1.056052\n",
            "13  14.050519  14.287818  0.983391  1.001591\n",
            "14  12.199641  14.460020  0.843681  0.940429\n",
            "15  16.225282  14.632222  1.108873  0.978649\n",
            "16  14.703450  14.804424  0.993179  0.981911\n",
            "17  15.623508  14.976625  1.043193  1.048415\n",
            "18  16.076694  15.148827  1.061250  1.032541\n",
            "19  13.436305  15.321029  0.876985  0.993809\n",
            "20  15.849934  15.493231  1.023023  0.987086\n"
          ],
          "name": "stdout"
        }
      ]
    },
    {
      "cell_type": "code",
      "metadata": {
        "colab": {
          "base_uri": "https://localhost:8080/"
        },
        "id": "c2WVbncN3MBR",
        "outputId": "ac9fea5a-6e23-483c-e727-56e44bd44123"
      },
      "source": [
        "# get e(t) = d(t) / (u(t)*c(t))\n",
        "e= []\n",
        "for i in data_table.index:\n",
        "  if math.isnan(data_table['c'][i]) is False:\n",
        "    e.append(data_table['d'][i] / (data_table['u'][i] * data_table['c'][i]))\n",
        "  else:\n",
        "    e.append(np.nan)\n",
        "\n",
        "data_table['e'] = Series(e,index)\n",
        "print('Final table')\n",
        "print(data_table[['y','y~','y/y~','s', 'd', 'u', 'd/u','c', 'e']])\n"
      ],
      "execution_count": null,
      "outputs": [
        {
          "output_type": "stream",
          "text": [
            "Final table\n",
            "        y       y~      y/y~         s          d          u       d/u  \\\n",
            "1   15.65      NaN       NaN  1.315966  11.892407  12.221397  0.973081   \n",
            "2   10.56      NaN       NaN  0.879534  12.006357  12.393599  0.968755   \n",
            "3    8.62      NaN       NaN  0.609543  14.141752  12.565801  1.125416   \n",
            "4   14.41  12.3100  1.170593  1.194958  12.059005  12.738003  0.946695   \n",
            "5   16.93  12.6300  1.340459  1.315966  12.865077  12.910204  0.996505   \n",
            "6   11.12  12.7700  0.870791  0.879534  12.643057  13.082406  0.966417   \n",
            "7    7.58  12.5100  0.605915  0.609543  12.435555  13.254608  0.938206   \n",
            "8   16.23  12.9650  1.251832  1.194958  13.582071  13.426810  1.011564   \n",
            "9   17.38  13.0775  1.329000  1.315966  13.207031  13.599011  0.971176   \n",
            "10  13.89  13.7700  1.008715  0.879534  15.792452  13.771213  1.146773   \n",
            "11   8.73  14.0575  0.621021  0.609543  14.322215  13.943415  1.027167   \n",
            "12  16.77  14.1925  1.181610  1.194958  14.033970  14.115617  0.994216   \n",
            "13  18.49  14.4700  1.277816  1.315966  14.050519  14.287818  0.983391   \n",
            "14  10.73  13.6800  0.784357  0.879534  12.199641  14.460020  0.843681   \n",
            "15   9.89  13.9700  0.707946  0.609543  16.225282  14.632222  1.108873   \n",
            "16  17.57  14.1700  1.239944  1.194958  14.703450  14.804424  0.993179   \n",
            "17  20.56  14.6875  1.399830  1.315966  15.623508  14.976625  1.043193   \n",
            "18  14.14  15.5400  0.909910  0.879534  16.076694  15.148827  1.061250   \n",
            "19   8.19  15.1150  0.541846  0.609543  13.436305  15.321029  0.876985   \n",
            "20  18.94  15.4575  1.225295  1.194958  15.849934  15.493231  1.023023   \n",
            "\n",
            "           c         e  \n",
            "1        NaN       NaN  \n",
            "2        NaN       NaN  \n",
            "3   1.022417  1.100740  \n",
            "4   1.013622  0.933973  \n",
            "5   1.022872  0.974222  \n",
            "6   0.969872  0.996437  \n",
            "7   0.967042  0.970181  \n",
            "8   0.972062  1.040637  \n",
            "9   0.973649  0.997460  \n",
            "10  1.043171  1.099315  \n",
            "11  1.048372  0.979774  \n",
            "12  1.056052  0.941446  \n",
            "13  1.001591  0.981829  \n",
            "14  0.940429  0.897123  \n",
            "15  0.978649  1.133066  \n",
            "16  0.981911  1.011476  \n",
            "17  1.048415  0.995019  \n",
            "18  1.032541  1.027804  \n",
            "19  0.993809  0.882448  \n",
            "20  0.987086  1.036407  \n"
          ],
          "name": "stdout"
        }
      ]
    }
  ]
}